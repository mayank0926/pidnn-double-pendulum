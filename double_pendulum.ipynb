{
 "cells": [
  {
   "cell_type": "markdown",
   "metadata": {},
   "source": []
  },
  {
   "cell_type": "code",
   "execution_count": 70,
   "metadata": {},
   "outputs": [],
   "source": [
    "import numpy as np\n",
    "import sympy as smp\n",
    "import scipy.io as sc\n",
    "from scipy.integrate import odeint\n",
    "import matplotlib.pyplot as plt\n",
    "from matplotlib import animation\n",
    "from mpl_toolkits.mplot3d import Axes3D\n",
    "from matplotlib.animation import PillowWriter"
   ]
  },
  {
   "cell_type": "code",
   "execution_count": 71,
   "metadata": {},
   "outputs": [],
   "source": [
    "t, g = smp.symbols('t g')\n",
    "m1, m2 = smp.symbols('m1 m2')\n",
    "L1, L2 = smp.symbols('L1, L2')"
   ]
  },
  {
   "cell_type": "code",
   "execution_count": 72,
   "metadata": {},
   "outputs": [],
   "source": [
    "the1, the2 = smp.symbols(r'\\theta_1, \\theta_2', cls=smp.Function)"
   ]
  },
  {
   "cell_type": "code",
   "execution_count": 73,
   "metadata": {},
   "outputs": [],
   "source": [
    "the1 = the1(t)\n",
    "the2 = the2(t)\n"
   ]
  },
  {
   "cell_type": "code",
   "execution_count": 74,
   "metadata": {},
   "outputs": [
    {
     "data": {
      "text/latex": [
       "$\\displaystyle \\theta_{1}{\\left(t \\right)}$"
      ],
      "text/plain": [
       "\\theta_1(t)"
      ]
     },
     "execution_count": 74,
     "metadata": {},
     "output_type": "execute_result"
    }
   ],
   "source": [
    "the1"
   ]
  },
  {
   "cell_type": "code",
   "execution_count": 75,
   "metadata": {},
   "outputs": [],
   "source": [
    "\n",
    "the1_d = smp.diff(the1, t)\n",
    "the2_d = smp.diff(the2, t)\n",
    "the1_dd = smp.diff(the1_d, t)\n",
    "the2_dd = smp.diff(the2_d, t)"
   ]
  },
  {
   "cell_type": "code",
   "execution_count": 76,
   "metadata": {},
   "outputs": [],
   "source": [
    "\n",
    "x1 = L1*smp.sin(the1)\n",
    "y1 = -L1*smp.cos(the1)\n",
    "x2 = L1*smp.sin(the1)+L2*smp.sin(the2)\n",
    "y2 = -L1*smp.cos(the1)-L2*smp.cos(the2)"
   ]
  },
  {
   "cell_type": "code",
   "execution_count": 77,
   "metadata": {},
   "outputs": [],
   "source": [
    "\n",
    "# Kinetic\n",
    "T1 = 1/2 * m1 * (smp.diff(x1, t)**2 + smp.diff(y1, t)**2)\n",
    "T2 = 1/2 * m2 * (smp.diff(x2, t)**2 + smp.diff(y2, t)**2)\n",
    "T = T1+T2\n",
    "# Potential\n",
    "V1 = m1*g*y1\n",
    "V2 = m2*g*y2\n",
    "V = V1 + V2\n",
    "# Lagrangian\n",
    "L = T-V"
   ]
  },
  {
   "cell_type": "code",
   "execution_count": 78,
   "metadata": {},
   "outputs": [
    {
     "data": {
      "text/latex": [
       "$\\displaystyle L_{1} g m_{1} \\cos{\\left(\\theta_{1}{\\left(t \\right)} \\right)} - g m_{2} \\left(- L_{1} \\cos{\\left(\\theta_{1}{\\left(t \\right)} \\right)} - L_{2} \\cos{\\left(\\theta_{2}{\\left(t \\right)} \\right)}\\right) + 0.5 m_{1} \\left(L_{1}^{2} \\sin^{2}{\\left(\\theta_{1}{\\left(t \\right)} \\right)} \\left(\\frac{d}{d t} \\theta_{1}{\\left(t \\right)}\\right)^{2} + L_{1}^{2} \\cos^{2}{\\left(\\theta_{1}{\\left(t \\right)} \\right)} \\left(\\frac{d}{d t} \\theta_{1}{\\left(t \\right)}\\right)^{2}\\right) + 0.5 m_{2} \\left(\\left(L_{1} \\sin{\\left(\\theta_{1}{\\left(t \\right)} \\right)} \\frac{d}{d t} \\theta_{1}{\\left(t \\right)} + L_{2} \\sin{\\left(\\theta_{2}{\\left(t \\right)} \\right)} \\frac{d}{d t} \\theta_{2}{\\left(t \\right)}\\right)^{2} + \\left(L_{1} \\cos{\\left(\\theta_{1}{\\left(t \\right)} \\right)} \\frac{d}{d t} \\theta_{1}{\\left(t \\right)} + L_{2} \\cos{\\left(\\theta_{2}{\\left(t \\right)} \\right)} \\frac{d}{d t} \\theta_{2}{\\left(t \\right)}\\right)^{2}\\right)$"
      ],
      "text/plain": [
       "L1*g*m1*cos(\\theta_1(t)) - g*m2*(-L1*cos(\\theta_1(t)) - L2*cos(\\theta_2(t))) + 0.5*m1*(L1**2*sin(\\theta_1(t))**2*Derivative(\\theta_1(t), t)**2 + L1**2*cos(\\theta_1(t))**2*Derivative(\\theta_1(t), t)**2) + 0.5*m2*((L1*sin(\\theta_1(t))*Derivative(\\theta_1(t), t) + L2*sin(\\theta_2(t))*Derivative(\\theta_2(t), t))**2 + (L1*cos(\\theta_1(t))*Derivative(\\theta_1(t), t) + L2*cos(\\theta_2(t))*Derivative(\\theta_2(t), t))**2)"
      ]
     },
     "execution_count": 78,
     "metadata": {},
     "output_type": "execute_result"
    }
   ],
   "source": [
    "L"
   ]
  },
  {
   "cell_type": "code",
   "execution_count": 79,
   "metadata": {},
   "outputs": [],
   "source": [
    "LE1 = (smp.diff(L, the1) - (smp.diff(smp.diff(L, the1_d), t))).simplify()\n",
    "LE2 = (smp.diff(L, the2) - (smp.diff(smp.diff(L, the2_d), t))).simplify()"
   ]
  },
  {
   "cell_type": "code",
   "execution_count": 80,
   "metadata": {},
   "outputs": [
    {
     "data": {
      "text/latex": [
       "$\\displaystyle - 1.0 L_{1} \\left(L_{1} m_{1} \\frac{d^{2}}{d t^{2}} \\theta_{1}{\\left(t \\right)} + L_{1} m_{2} \\frac{d^{2}}{d t^{2}} \\theta_{1}{\\left(t \\right)} + L_{2} m_{2} \\sin{\\left(\\theta_{1}{\\left(t \\right)} - \\theta_{2}{\\left(t \\right)} \\right)} \\left(\\frac{d}{d t} \\theta_{2}{\\left(t \\right)}\\right)^{2} + L_{2} m_{2} \\cos{\\left(\\theta_{1}{\\left(t \\right)} - \\theta_{2}{\\left(t \\right)} \\right)} \\frac{d^{2}}{d t^{2}} \\theta_{2}{\\left(t \\right)} + g m_{1} \\sin{\\left(\\theta_{1}{\\left(t \\right)} \\right)} + g m_{2} \\sin{\\left(\\theta_{1}{\\left(t \\right)} \\right)}\\right)$"
      ],
      "text/plain": [
       "-1.0*L1*(L1*m1*Derivative(\\theta_1(t), (t, 2)) + L1*m2*Derivative(\\theta_1(t), (t, 2)) + L2*m2*sin(\\theta_1(t) - \\theta_2(t))*Derivative(\\theta_2(t), t)**2 + L2*m2*cos(\\theta_1(t) - \\theta_2(t))*Derivative(\\theta_2(t), (t, 2)) + g*m1*sin(\\theta_1(t)) + g*m2*sin(\\theta_1(t)))"
      ]
     },
     "execution_count": 80,
     "metadata": {},
     "output_type": "execute_result"
    }
   ],
   "source": [
    "LE1"
   ]
  },
  {
   "cell_type": "code",
   "execution_count": 81,
   "metadata": {},
   "outputs": [
    {
     "data": {
      "text/latex": [
       "$\\displaystyle 1.0 L_{2} m_{2} \\left(L_{1} \\sin{\\left(\\theta_{1}{\\left(t \\right)} - \\theta_{2}{\\left(t \\right)} \\right)} \\left(\\frac{d}{d t} \\theta_{1}{\\left(t \\right)}\\right)^{2} - L_{1} \\cos{\\left(\\theta_{1}{\\left(t \\right)} - \\theta_{2}{\\left(t \\right)} \\right)} \\frac{d^{2}}{d t^{2}} \\theta_{1}{\\left(t \\right)} - L_{2} \\frac{d^{2}}{d t^{2}} \\theta_{2}{\\left(t \\right)} - g \\sin{\\left(\\theta_{2}{\\left(t \\right)} \\right)}\\right)$"
      ],
      "text/plain": [
       "1.0*L2*m2*(L1*sin(\\theta_1(t) - \\theta_2(t))*Derivative(\\theta_1(t), t)**2 - L1*cos(\\theta_1(t) - \\theta_2(t))*Derivative(\\theta_1(t), (t, 2)) - L2*Derivative(\\theta_2(t), (t, 2)) - g*sin(\\theta_2(t)))"
      ]
     },
     "execution_count": 81,
     "metadata": {},
     "output_type": "execute_result"
    }
   ],
   "source": [
    "LE2"
   ]
  },
  {
   "cell_type": "code",
   "execution_count": 82,
   "metadata": {},
   "outputs": [],
   "source": [
    "sols = smp.solve([LE1, LE2], (the1_dd, the2_dd),\n",
    "                simplify=False, rational=False)"
   ]
  },
  {
   "cell_type": "code",
   "execution_count": 83,
   "metadata": {},
   "outputs": [],
   "source": [
    "dz1dt_f = smp.lambdify((t,g,m1,m2,L1,L2,the1,the2,the1_d,the2_d), sols[the1_dd])\n",
    "dz2dt_f = smp.lambdify((t,g,m1,m2,L1,L2,the1,the2,the1_d,the2_d), sols[the2_dd])\n",
    "dthe1dt_f = smp.lambdify(the1_d, the1_d)\n",
    "dthe2dt_f = smp.lambdify(the2_d, the2_d)"
   ]
  },
  {
   "cell_type": "code",
   "execution_count": 84,
   "metadata": {},
   "outputs": [],
   "source": [
    "def dSdt(S, t, g, m1, m2, L1, L2):\n",
    "    the1, z1, the2, z2 = S\n",
    "    return [\n",
    "        dthe1dt_f(z1),\n",
    "        dz1dt_f(t, g, m1, m2, L1, L2, the1, the2, z1, z2),\n",
    "        dthe2dt_f(z2),\n",
    "        dz2dt_f(t, g, m1, m2, L1, L2, the1, the2, z1, z2),\n",
    "    ]"
   ]
  },
  {
   "cell_type": "code",
   "execution_count": 85,
   "metadata": {},
   "outputs": [],
   "source": [
    "t = np.linspace(0, 40, 10001)\n",
    "g = 9.81\n",
    "m1=2\n",
    "m2=2\n",
    "L1 = 2\n",
    "L2 = 1\n",
    "ans = odeint(dSdt, y0=[np.pi-0.07, 0, 0, 0], t=t, args=(g,m1,m2,L1,L2))\n",
    "t = np.reshape(t, (-1,1))\n",
    "data = np.hstack([t, ans])\n",
    "np.savetxt(\"dp.csv\", data, delimiter=\",\")"
   ]
  },
  {
   "cell_type": "code",
   "execution_count": 86,
   "metadata": {},
   "outputs": [
    {
     "data": {
      "text/plain": [
       "(10001, 1)"
      ]
     },
     "execution_count": 86,
     "metadata": {},
     "output_type": "execute_result"
    }
   ],
   "source": [
    "t.shape"
   ]
  },
  {
   "cell_type": "code",
   "execution_count": 87,
   "metadata": {},
   "outputs": [
    {
     "data": {
      "text/plain": [
       "array([[ 3.07159265e+00,  3.07158719e+00,  3.07157080e+00, ...,\n",
       "        -1.42418506e+00, -1.41445660e+00, -1.40466985e+00],\n",
       "       [ 0.00000000e+00, -2.73119796e-03, -5.46240519e-03, ...,\n",
       "         2.41885754e+00,  2.44238666e+00,  2.44802582e+00],\n",
       "       [ 0.00000000e+00, -1.08978506e-05, -4.35897561e-05, ...,\n",
       "        -2.65149001e+01, -2.65626525e+01, -2.66103632e+01],\n",
       "       [ 0.00000000e+00, -5.44886567e-03, -1.08968945e-02, ...,\n",
       "        -1.19304009e+01, -1.19393661e+01, -1.19095540e+01]])"
      ]
     },
     "execution_count": 87,
     "metadata": {},
     "output_type": "execute_result"
    }
   ],
   "source": [
    "ans.T"
   ]
  },
  {
   "cell_type": "code",
   "execution_count": 88,
   "metadata": {},
   "outputs": [],
   "source": [
    "the1 =  (np.arctan2(np.sin(ans.T[0]), np.cos(ans.T[0]))*180)/np.pi\n",
    "the2 = (np.arctan2(np.sin(ans.T[2]), np.cos(ans.T[2]))*180)/np.pi"
   ]
  },
  {
   "cell_type": "code",
   "execution_count": 89,
   "metadata": {},
   "outputs": [
    {
     "data": {
      "image/png": "[encoded data removed]",
      "text/plain": [
       "<Figure size 432x288 with 1 Axes>"
      ]
     },
     "metadata": {
      "needs_background": "light"
     },
     "output_type": "display_data"
    }
   ],
   "source": [
    "plt.plot(t, the1)\n",
    "plt.plot(t, the2)\n",
    "plt.show()"
   ]
  },
  {
   "cell_type": "code",
   "execution_count": 90,
   "metadata": {},
   "outputs": [],
   "source": [
    "def get_x1y1x2y2(t, the1, the2, L1, L2):\n",
    "    return (L1*np.sin(the1),\n",
    "            -L1*np.cos(the1),\n",
    "            L1*np.sin(the1) + L2*np.sin(the2),\n",
    "            -L1*np.cos(the1) - L2*np.cos(the2))\n",
    "\n",
    "x1, y1, x2, y2 = get_x1y1x2y2(t, ans.T[0], ans.T[2], L1, L2)"
   ]
  },
  {
   "cell_type": "code",
   "execution_count": 91,
   "metadata": {},
   "outputs": [
    {
     "data": {
      "image/png": "[encoded data removed]",
      "text/plain": [
       "<Figure size 576x576 with 1 Axes>"
      ]
     },
     "metadata": {},
     "output_type": "display_data"
    }
   ],
   "source": [
    "def animate(i):\n",
    "    ln1.set_data([0, x1[i], x2[i]], [0, y1[i], y2[i]])\n",
    "    \n",
    "fig, ax = plt.subplots(1,1, figsize=(8,8))\n",
    "ax.set_facecolor('k')\n",
    "ax.get_xaxis().set_ticks([])    # enable this to hide x axis ticks\n",
    "ax.get_yaxis().set_ticks([])    # enable this to hide y axis ticks\n",
    "ln1, = plt.plot([], [], 'ro--', lw=3, markersize=8)\n",
    "ax.set_ylim(-4,4)\n",
    "ax.set_xlim(-4,4)\n",
    "ani = animation.FuncAnimation(fig, animate, frames=1000, interval=50)\n",
    "ani.save('pen.gif',writer='pillow',fps=25)"
   ]
  }
 ],
 "metadata": {
  "interpreter": {
   "hash": "24e81c3c0cf335d0d543109379ae453fc748055891ae9969476886f28ca73282"
  },
  "kernelspec": {
   "display_name": "Python 3.8.8 64-bit ('base': conda)",
   "name": "python3"
  },
  "language_info": {
   "codemirror_mode": {
    "name": "ipython",
    "version": 3
   },
   "file_extension": ".py",
   "mimetype": "text/x-python",
   "name": "python",
   "nbconvert_exporter": "python",
   "pygments_lexer": "ipython3",
   "version": "3.8.12"
  },
  "orig_nbformat": 4
 },
 "nbformat": 4,
 "nbformat_minor": 2
}
